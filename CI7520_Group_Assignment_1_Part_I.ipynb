{
  "nbformat": 4,
  "nbformat_minor": 0,
  "metadata": {
    "colab": {
      "name": "CI7520_Group_Assignment_1_Part_I.ipynb",
      "provenance": [],
      "collapsed_sections": []
    },
    "kernelspec": {
      "name": "python3",
      "display_name": "Python 3"
    },
    "language_info": {
      "name": "python"
    }
  },
  "cells": [
    {
      "cell_type": "markdown",
      "source": [
        "#CI7250 Machine Learning and Artificial Intelligence\n",
        "\n",
        "##Assignment 1\n",
        "\n",
        "\n",
        "---\n",
        "\n",
        "\n",
        "Group 11 Members:\n",
        "*    Erika Coke - K2112049\n",
        "*    Ladan Saeidi - K2145352\n",
        "*    Çiğdem Şahin - K2058962"
      ],
      "metadata": {
        "id": "Zy8YVRofNrO8"
      }
    },
    {
      "cell_type": "markdown",
      "source": [
        "# PART I – Application: Load and overview data related to your theme (Group Submission)"
      ],
      "metadata": {
        "id": "nW57SoBmW3Tu"
      }
    },
    {
      "cell_type": "code",
      "execution_count": null,
      "metadata": {
        "id": "93G2L0y9WjOZ"
      },
      "outputs": [],
      "source": [
        "from sklearn import datasets\n",
        "import numpy as np\n",
        "import matplotlib.pyplot as plt"
      ]
    },
    {
      "cell_type": "code",
      "source": [
        "# Loading data\n",
        "data =  datasets.load_breast_cancer()\n",
        "data"
      ],
      "metadata": {
        "id": "IIYfYAdWXBEL"
      },
      "execution_count": null,
      "outputs": []
    },
    {
      "cell_type": "markdown",
      "source": [
        "### Number of samples/instances\n",
        "### Number of dimensions/features/attributes"
      ],
      "metadata": {
        "id": "G3BrSXbkXFWA"
      }
    },
    {
      "cell_type": "code",
      "source": [
        "print('Number of samples:',data.data.shape[0])\n",
        "print('Number of features:',data.data.shape[1])"
      ],
      "metadata": {
        "colab": {
          "base_uri": "https://localhost:8080/"
        },
        "id": "Zxf4tEfxXGHo",
        "outputId": "a4cb9a75-9d57-413b-9f92-213d4021fc35"
      },
      "execution_count": null,
      "outputs": [
        {
          "output_type": "stream",
          "name": "stdout",
          "text": [
            "Number of samples: 569\n",
            "Number of features: 30\n"
          ]
        }
      ]
    },
    {
      "cell_type": "markdown",
      "source": [
        "### Name of classes"
      ],
      "metadata": {
        "id": "6rQypcZ4XM4Y"
      }
    },
    {
      "cell_type": "code",
      "source": [
        "# Name of classes \n",
        "print(data.target_names)"
      ],
      "metadata": {
        "colab": {
          "base_uri": "https://localhost:8080/"
        },
        "id": "B3QprrzPXOrE",
        "outputId": "3f284dbe-fdf3-4a78-b998-0168394856ca"
      },
      "execution_count": null,
      "outputs": [
        {
          "output_type": "stream",
          "name": "stdout",
          "text": [
            "['malignant' 'benign']\n"
          ]
        }
      ]
    },
    {
      "cell_type": "markdown",
      "source": [
        "### Number of classes"
      ],
      "metadata": {
        "id": "tybZsaqCXU-M"
      }
    },
    {
      "cell_type": "code",
      "source": [
        "# Number of classes\n",
        "len(data.target_names)"
      ],
      "metadata": {
        "colab": {
          "base_uri": "https://localhost:8080/"
        },
        "id": "qhsAKmJMXOpl",
        "outputId": "d2fcc016-f7d6-4ca7-ab46-ba3ad7972601"
      },
      "execution_count": null,
      "outputs": [
        {
          "output_type": "execute_result",
          "data": {
            "text/plain": [
              "2"
            ]
          },
          "metadata": {},
          "execution_count": 5
        }
      ]
    },
    {
      "cell_type": "markdown",
      "source": [
        "### Number of samples per class"
      ],
      "metadata": {
        "id": "z7dAsAZNXcOv"
      }
    },
    {
      "cell_type": "code",
      "source": [
        "# Number of samples per class\n",
        "print('Number of',data.target_names[0],'samples:',len(data.target[data.target==0]))\n",
        "print('Number of',data.target_names[1],'samples:',len(data.target[data.target==1]))"
      ],
      "metadata": {
        "colab": {
          "base_uri": "https://localhost:8080/"
        },
        "id": "aNVuZ4QhXdfS",
        "outputId": "46646237-dbc5-4416-d280-a6088b9e8074"
      },
      "execution_count": null,
      "outputs": [
        {
          "output_type": "stream",
          "name": "stdout",
          "text": [
            "Number of malignant samples: 212\n",
            "Number of benign samples: 357\n"
          ]
        }
      ]
    }
  ]
}